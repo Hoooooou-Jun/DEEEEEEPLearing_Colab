{
  "nbformat": 4,
  "nbformat_minor": 0,
  "metadata": {
    "colab": {
      "provenance": [],
      "authorship_tag": "ABX9TyNXD47g2rDj8fMUiVLnhDi7",
      "include_colab_link": true
    },
    "kernelspec": {
      "name": "python3",
      "display_name": "Python 3"
    },
    "language_info": {
      "name": "python"
    }
  },
  "cells": [
    {
      "cell_type": "markdown",
      "metadata": {
        "id": "view-in-github",
        "colab_type": "text"
      },
      "source": [
        "<a href=\"https://colab.research.google.com/github/Hoooooou-Jun/DEEEEEEPLearing_Colab/blob/main/matplotlib.ipynb\" target=\"_parent\"><img src=\"https://colab.research.google.com/assets/colab-badge.svg\" alt=\"Open In Colab\"/></a>"
      ]
    },
    {
      "cell_type": "code",
      "execution_count": 1,
      "metadata": {
        "colab": {
          "base_uri": "https://localhost:8080/",
          "height": 36
        },
        "id": "UKnIH0QtF0E1",
        "outputId": "4515f969-594e-4659-f239-9c58ad633960"
      },
      "outputs": [
        {
          "output_type": "execute_result",
          "data": {
            "text/plain": [
              "'3.2.2'"
            ],
            "application/vnd.google.colaboratory.intrinsic+json": {
              "type": "string"
            }
          },
          "metadata": {},
          "execution_count": 1
        }
      ],
      "source": [
        "# • Python에서 MATLAB과 유사한 그래프 표시를 가능케 하는 라이브러리\n",
        "# • 더 편리한 사용을 위해 pyplot이라는 wrapper 모듈을 적용\n",
        "import matplotlib as mlt\n",
        "import matplotlib.pyplot as plt\n",
        "mlt.__version__"
      ]
    }
  ]
}