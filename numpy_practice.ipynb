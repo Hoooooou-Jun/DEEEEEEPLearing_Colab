{
  "nbformat": 4,
  "nbformat_minor": 0,
  "metadata": {
    "colab": {
      "provenance": [],
      "collapsed_sections": [],
      "authorship_tag": "ABX9TyMB4DKMnz9JgfoZuby2zmb1",
      "include_colab_link": true
    },
    "kernelspec": {
      "name": "python3",
      "display_name": "Python 3"
    },
    "language_info": {
      "name": "python"
    }
  },
  "cells": [
    {
      "cell_type": "markdown",
      "metadata": {
        "id": "view-in-github",
        "colab_type": "text"
      },
      "source": [
        "<a href=\"https://colab.research.google.com/github/Hoooooou-Jun/DEEEEEEPLearing_Colab/blob/main/numpy_practice.ipynb\" target=\"_parent\"><img src=\"https://colab.research.google.com/assets/colab-badge.svg\" alt=\"Open In Colab\"/></a>"
      ]
    },
    {
      "cell_type": "code",
      "execution_count": 1,
      "metadata": {
        "colab": {
          "base_uri": "https://localhost:8080/",
          "height": 36
        },
        "id": "iNxJIlOn_Ezh",
        "outputId": "efa1ba61-e5e5-4b0f-e9d4-f2e30195f819"
      },
      "outputs": [
        {
          "output_type": "execute_result",
          "data": {
            "text/plain": [
              "'1.21.6'"
            ],
            "application/vnd.google.colaboratory.intrinsic+json": {
              "type": "string"
            }
          },
          "metadata": {},
          "execution_count": 1
        }
      ],
      "source": [
        "# NumPy\n",
        "# • Numerical Python : Python을 활용한 과학 컴퓨팅 전용 패키지\n",
        "# • 복잡한 행렬계산, 선형대수, 통계 등을 Python에서 쉽게 다룰 수 있도록\n",
        "# 도와줌\n",
        "# • Python list로는 고성능 수치계산이 어렵기 때문에, Numpy의 array로 수치계산을 수행\n",
        "# • 생성함수\n",
        "# – array : 파이썬 리스트를 ndarray 형태로 변환\n",
        "# – arrange : 파이썬 range 함수와 동일, ndarray 객체 생성 – zeros/ones/eye/full\n",
        "# • 연산함수\n",
        "# – add/subtract/multiply/divide : 사칙연산 – sum/prod : 원소의 합/곱\n",
        "# – max/min : 최대/최소값 반환\n",
        "# • 형상함수\n",
        "# – shape/reshape/transpose\n",
        "import numpy as np\n",
        "np.__version__"
      ]
    },
    {
      "cell_type": "code",
      "source": [
        "# 배열\n",
        "x = np.array([1.0, 2.0, 3.0])\n",
        "\n",
        "print(x)\n",
        "\n",
        "type(x)"
      ],
      "metadata": {
        "colab": {
          "base_uri": "https://localhost:8080/"
        },
        "id": "Aw9hZ6Lt_X41",
        "outputId": "24825f1e-7223-41eb-ffaf-7277d2732be2"
      },
      "execution_count": 6,
      "outputs": [
        {
          "output_type": "stream",
          "name": "stdout",
          "text": [
            "[1. 2. 3.]\n"
          ]
        },
        {
          "output_type": "execute_result",
          "data": {
            "text/plain": [
              "numpy.ndarray"
            ]
          },
          "metadata": {},
          "execution_count": 6
        }
      ]
    },
    {
      "cell_type": "code",
      "source": [
        "# 산술 연산\n",
        "x = np.array([1.0, 2.0, 3.0])\n",
        "y = np.array([2.0, 4.0, 6.0])\n",
        "\n",
        "x + y\n",
        "x - y\n",
        "x * y\n",
        "x / y\n",
        "\n",
        "x / 2.0"
      ],
      "metadata": {
        "colab": {
          "base_uri": "https://localhost:8080/"
        },
        "id": "4RPviSrB_umI",
        "outputId": "332e8dc6-938f-4062-908a-4f2abc50b652"
      },
      "execution_count": 7,
      "outputs": [
        {
          "output_type": "execute_result",
          "data": {
            "text/plain": [
              "array([0.5, 1. , 1.5])"
            ]
          },
          "metadata": {},
          "execution_count": 7
        }
      ]
    },
    {
      "cell_type": "code",
      "source": [
        "# 2차원 배열\n",
        "a = np.array([[1, 2], [3, 4]])\n",
        "\n",
        "print(a)\n",
        "\n",
        "a.shape\n",
        "\n",
        "b = np.array([[1, 2], [3, 4]])\n",
        "a + b\n",
        "a * b\n",
        "a * 10"
      ],
      "metadata": {
        "colab": {
          "base_uri": "https://localhost:8080/"
        },
        "id": "xjePxYiRAMrx",
        "outputId": "5398cfe7-bf45-4ff1-e2e8-86b5aabff1df"
      },
      "execution_count": 11,
      "outputs": [
        {
          "output_type": "stream",
          "name": "stdout",
          "text": [
            "[[1 2]\n",
            " [3 4]]\n"
          ]
        },
        {
          "output_type": "execute_result",
          "data": {
            "text/plain": [
              "array([[10, 20],\n",
              "       [30, 40]])"
            ]
          },
          "metadata": {},
          "execution_count": 11
        }
      ]
    },
    {
      "cell_type": "code",
      "source": [
        "# Broadcast\n",
        "a = np.array([[1, 2], [3, 4]])\n",
        "b = np.array([10, 20])\n",
        "\n",
        "a * b"
      ],
      "metadata": {
        "colab": {
          "base_uri": "https://localhost:8080/"
        },
        "id": "VjfUZJ8fAhUZ",
        "outputId": "85b9b13d-130d-4dce-84fa-40bb4dba85e8"
      },
      "execution_count": 12,
      "outputs": [
        {
          "output_type": "execute_result",
          "data": {
            "text/plain": [
              "array([[10, 40],\n",
              "       [30, 80]])"
            ]
          },
          "metadata": {},
          "execution_count": 12
        }
      ]
    },
    {
      "cell_type": "code",
      "source": [
        "x = np.array([[51, 55],\n",
        "              [14, 19],\n",
        "              [0, 4]])\n",
        "\n",
        "x[0]\n",
        "x[0][1]\n",
        "\n",
        "for row in x:\n",
        "  print(row)"
      ],
      "metadata": {
        "colab": {
          "base_uri": "https://localhost:8080/"
        },
        "id": "sDYR-fmWARDF",
        "outputId": "be1ac142-d91e-4937-8799-8991c931ff20"
      },
      "execution_count": 13,
      "outputs": [
        {
          "output_type": "stream",
          "name": "stdout",
          "text": [
            "[51 55]\n",
            "[14 19]\n",
            "[0 4]\n"
          ]
        }
      ]
    }
  ]
}