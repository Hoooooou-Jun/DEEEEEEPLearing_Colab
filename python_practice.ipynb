{
  "nbformat": 4,
  "nbformat_minor": 0,
  "metadata": {
    "colab": {
      "provenance": [],
      "collapsed_sections": [],
      "authorship_tag": "ABX9TyPbM5GipuX4maoFInjc91bR",
      "include_colab_link": true
    },
    "kernelspec": {
      "name": "python3",
      "display_name": "Python 3"
    },
    "language_info": {
      "name": "python"
    }
  },
  "cells": [
    {
      "cell_type": "markdown",
      "metadata": {
        "id": "view-in-github",
        "colab_type": "text"
      },
      "source": [
        "<a href=\"https://colab.research.google.com/github/Hoooooou-Jun/DEEEEEEPLearing_Colab/blob/main/python_practice.ipynb\" target=\"_parent\"><img src=\"https://colab.research.google.com/assets/colab-badge.svg\" alt=\"Open In Colab\"/></a>"
      ]
    },
    {
      "cell_type": "code",
      "source": [
        "# 파이썬 기초 정리만 해보장\n",
        "import sys\n",
        "sys.version"
      ],
      "metadata": {
        "id": "hXfLQSsD1CEC",
        "colab": {
          "base_uri": "https://localhost:8080/",
          "height": 36
        },
        "outputId": "840278c4-3448-47cc-c6f3-b4a956828498"
      },
      "execution_count": null,
      "outputs": [
        {
          "output_type": "execute_result",
          "data": {
            "text/plain": [
              "'3.7.14 (default, Sep  8 2022, 00:06:44) \\n[GCC 7.5.0]'"
            ],
            "application/vnd.google.colaboratory.intrinsic+json": {
              "type": "string"
            }
          },
          "metadata": {},
          "execution_count": 1
        }
      ]
    },
    {
      "cell_type": "code",
      "source": [
        "# 자료형\n",
        "type(10)\n",
        "type(2.718)\n",
        "type('hello')"
      ],
      "metadata": {
        "colab": {
          "base_uri": "https://localhost:8080/"
        },
        "id": "G0yKEc6n55l6",
        "outputId": "4861fcb1-0b39-49be-b1da-154622b8cfe6"
      },
      "execution_count": null,
      "outputs": [
        {
          "output_type": "execute_result",
          "data": {
            "text/plain": [
              "str"
            ]
          },
          "metadata": {},
          "execution_count": 7
        }
      ]
    },
    {
      "cell_type": "code",
      "source": [
        "# 변수\n",
        "x = 10\n",
        "y = 3.14\n",
        "x * y"
      ],
      "metadata": {
        "colab": {
          "base_uri": "https://localhost:8080/"
        },
        "id": "kvlysiqj6FEm",
        "outputId": "799022b8-432e-4e17-e356-287959bc25e1"
      },
      "execution_count": null,
      "outputs": [
        {
          "output_type": "execute_result",
          "data": {
            "text/plain": [
              "31.400000000000002"
            ]
          },
          "metadata": {},
          "execution_count": 5
        }
      ]
    },
    {
      "cell_type": "code",
      "source": [
        "# 리스트\n",
        "a = [1, 2, 3, 4, 5]\n",
        "len(a)\n",
        "\n",
        "a[4] = 99\n",
        "print(a)"
      ],
      "metadata": {
        "colab": {
          "base_uri": "https://localhost:8080/"
        },
        "id": "fEUan8fD6LIe",
        "outputId": "674fab11-9f69-405f-acba-c476f0773596"
      },
      "execution_count": null,
      "outputs": [
        {
          "output_type": "stream",
          "name": "stdout",
          "text": [
            "[1, 2, 3, 4, 99]\n"
          ]
        }
      ]
    },
    {
      "cell_type": "code",
      "source": [
        "# 딕셔너리\n",
        "me = {'height': 180}\n",
        "me['height']\n",
        "\n",
        "me['weight'] = 70\n",
        "print(me)"
      ],
      "metadata": {
        "colab": {
          "base_uri": "https://localhost:8080/"
        },
        "id": "o8B4x_IO6TI9",
        "outputId": "d1c734f3-4c84-41d6-b970-fda7123bbe35"
      },
      "execution_count": null,
      "outputs": [
        {
          "output_type": "stream",
          "name": "stdout",
          "text": [
            "{'height': 180, 'weight': 70}\n"
          ]
        }
      ]
    },
    {
      "cell_type": "code",
      "source": [
        "# 불리언\n",
        "hungry = True\n",
        "sleepy = False\n",
        "\n",
        "type(hungry)\n",
        "\n",
        "not hungry\n",
        "\n",
        "hungry and sleepy\n",
        "\n",
        "hungry or sleepy"
      ],
      "metadata": {
        "colab": {
          "base_uri": "https://localhost:8080/"
        },
        "id": "WwgYojMd7AYs",
        "outputId": "c95d29df-db8f-4a91-e3c8-c2d612d997dd"
      },
      "execution_count": null,
      "outputs": [
        {
          "output_type": "execute_result",
          "data": {
            "text/plain": [
              "True"
            ]
          },
          "metadata": {},
          "execution_count": 19
        }
      ]
    },
    {
      "cell_type": "code",
      "source": [
        "# if문\n",
        "hungry = True\n",
        "if hungry:\n",
        "  print(\"I am hungry\")\n",
        "\n",
        "hungry = False\n",
        "if hungry:\n",
        "  print(\"I am hungry\")\n",
        "else:\n",
        "  print(\"I am not hungry\")"
      ],
      "metadata": {
        "colab": {
          "base_uri": "https://localhost:8080/"
        },
        "id": "T6jfljTx7Oje",
        "outputId": "99467b28-60fe-4224-acec-50f7ac65f2e8"
      },
      "execution_count": null,
      "outputs": [
        {
          "output_type": "stream",
          "name": "stdout",
          "text": [
            "I am hungry\n",
            "I am not hungry\n"
          ]
        }
      ]
    },
    {
      "cell_type": "code",
      "source": [
        "# for 문\n",
        "for i in [1, 2, 3]:\n",
        "  print(i)"
      ],
      "metadata": {
        "colab": {
          "base_uri": "https://localhost:8080/"
        },
        "id": "9Ip-zemI7ev6",
        "outputId": "6c662e73-952c-48c8-b3cc-4db3dc8f64fa"
      },
      "execution_count": null,
      "outputs": [
        {
          "output_type": "stream",
          "name": "stdout",
          "text": [
            "1\n",
            "2\n",
            "3\n"
          ]
        }
      ]
    },
    {
      "cell_type": "code",
      "source": [
        "# 함수\n",
        "def hello():\n",
        "  print(\"Hello world!\")\n",
        "hello()\n",
        "\n",
        "def hello(object):\n",
        "  print(\"Hello \" + object + \"!\")\n",
        "hello(\"cat\")"
      ],
      "metadata": {
        "colab": {
          "base_uri": "https://localhost:8080/"
        },
        "id": "aYqryp_57kEt",
        "outputId": "834078e0-bd34-4323-fbf4-a08582b9110b"
      },
      "execution_count": null,
      "outputs": [
        {
          "output_type": "stream",
          "name": "stdout",
          "text": [
            "Hello world!\n",
            "Hello cat!\n"
          ]
        }
      ]
    },
    {
      "cell_type": "code",
      "source": [
        "# 클래스\n",
        "class Man:\n",
        "  def __init__(self, name):\n",
        "    self.name = name\n",
        "    print(\"Initialized!\")\n",
        "  def hello(self):\n",
        "    print(\"Hello \" + self.name + \"!\")\n",
        "  def goodBye(self):\n",
        "    print(\"Good-bye \" + self.name + \"!\")\n",
        "\n",
        "m = Man(\"David\")\n",
        "m.hello()\n",
        "m.goodBye()"
      ],
      "metadata": {
        "colab": {
          "base_uri": "https://localhost:8080/"
        },
        "id": "c4b0Ue-Q7-oW",
        "outputId": "fbc1a5dc-a1e1-47e3-b2b1-8c125fa8d4e4"
      },
      "execution_count": null,
      "outputs": [
        {
          "output_type": "stream",
          "name": "stdout",
          "text": [
            "Initialized!\n",
            "Hello David!\n",
            "Good-bye David!\n"
          ]
        }
      ]
    },
    {
      "cell_type": "code",
      "source": [],
      "metadata": {
        "id": "R2MtOcb08VwI"
      },
      "execution_count": null,
      "outputs": []
    }
  ]
}