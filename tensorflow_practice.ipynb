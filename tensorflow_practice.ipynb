{
  "nbformat": 4,
  "nbformat_minor": 0,
  "metadata": {
    "colab": {
      "provenance": [],
      "collapsed_sections": [],
      "authorship_tag": "ABX9TyNtNjUa5YsxVRTbO05bwVy7",
      "include_colab_link": true
    },
    "kernelspec": {
      "name": "python3",
      "display_name": "Python 3"
    },
    "language_info": {
      "name": "python"
    }
  },
  "cells": [
    {
      "cell_type": "markdown",
      "metadata": {
        "id": "view-in-github",
        "colab_type": "text"
      },
      "source": [
        "<a href=\"https://colab.research.google.com/github/Hoooooou-Jun/DEEEEEEPLearing_Colab/blob/main/tensorflow_practice.ipynb\" target=\"_parent\"><img src=\"https://colab.research.google.com/assets/colab-badge.svg\" alt=\"Open In Colab\"/></a>"
      ]
    },
    {
      "cell_type": "code",
      "execution_count": 67,
      "metadata": {
        "colab": {
          "base_uri": "https://localhost:8080/",
          "height": 36
        },
        "id": "q_3kvo8UumAA",
        "outputId": "77cef99a-8f59-4f21-8303-d124f50de256"
      },
      "outputs": [
        {
          "output_type": "execute_result",
          "data": {
            "text/plain": [
              "'2.8.2'"
            ],
            "application/vnd.google.colaboratory.intrinsic+json": {
              "type": "string"
            }
          },
          "metadata": {},
          "execution_count": 67
        }
      ],
      "source": [
        "# 텐서플로 기본단위 및 함수 정리\n",
        "import tensorflow as tf\n",
        "import numpy as np\n",
        "tf.__version__"
      ]
    },
    {
      "cell_type": "code",
      "source": [
        "hello = tf.constant(\"Hello TensorFlow\")\n",
        "print(hello.numpy())"
      ],
      "metadata": {
        "colab": {
          "base_uri": "https://localhost:8080/"
        },
        "id": "Tew3wzf0uzh_",
        "outputId": "c589325e-ab57-4e5d-ffa9-c1a83fe8aea3"
      },
      "execution_count": 55,
      "outputs": [
        {
          "output_type": "stream",
          "name": "stdout",
          "text": [
            "b'Hello TensorFlow'\n"
          ]
        }
      ]
    },
    {
      "cell_type": "code",
      "source": [
        "# Scalar\n",
        "a = tf.constant(1)\n",
        "b = tf.constant(2)\n",
        "\n",
        "print(a)\n",
        "tf.constant(1, shape=None, dtype=tf.int32)\n",
        "\n",
        "print(tf.rank(a))\n",
        "\n",
        "a = tf.cast(a, tf.float16)\n",
        "print(a.dtype)"
      ],
      "metadata": {
        "colab": {
          "base_uri": "https://localhost:8080/"
        },
        "id": "IsV1yQJHyCDu",
        "outputId": "17a7e30d-1442-45a0-b0d0-15f8601c78c1"
      },
      "execution_count": 39,
      "outputs": [
        {
          "output_type": "stream",
          "name": "stdout",
          "text": [
            "tf.Tensor(1, shape=(), dtype=int32)\n",
            "tf.Tensor(0, shape=(), dtype=int32)\n",
            "<dtype: 'float16'>\n"
          ]
        }
      ]
    },
    {
      "cell_type": "code",
      "source": [
        "tf.math.add(a, b)\n",
        "tf.math.subtract(a, b)\n",
        "tf.math.multiply(a, b)\n",
        "tf.math.divide(a, b)\n",
        "tf.math.mod(a, b)\n",
        "tf.math.floordiv(a, b)"
      ],
      "metadata": {
        "colab": {
          "base_uri": "https://localhost:8080/"
        },
        "id": "Z49s9xclye-_",
        "outputId": "525927e6-2652-49c7-8d35-160bc3f3a429"
      },
      "execution_count": 18,
      "outputs": [
        {
          "output_type": "execute_result",
          "data": {
            "text/plain": [
              "<tf.Tensor: shape=(), dtype=int32, numpy=0>"
            ]
          },
          "metadata": {},
          "execution_count": 18
        }
      ]
    },
    {
      "cell_type": "code",
      "source": [
        "# Vector\n",
        "py_list = [10., 20., 30.]\n",
        "num_arr = np.array([10., 10., 10.])\n",
        "\n",
        "v1 = tf.constant(py_list, dtype=tf.float32)\n",
        "v2 = tf.constant(num_arr, dtype=tf.float32)\n",
        "\n",
        "tf.rank(v1)\n",
        "tf.math.add(v1, v2)"
      ],
      "metadata": {
        "colab": {
          "base_uri": "https://localhost:8080/"
        },
        "id": "GUEXppqX0E4Q",
        "outputId": "93e9616f-e252-4fd7-bd37-51ac47f006a9"
      },
      "execution_count": 22,
      "outputs": [
        {
          "output_type": "execute_result",
          "data": {
            "text/plain": [
              "<tf.Tensor: shape=(3,), dtype=float32, numpy=array([20., 30., 40.], dtype=float32)>"
            ]
          },
          "metadata": {},
          "execution_count": 22
        }
      ]
    },
    {
      "cell_type": "code",
      "source": [
        "tf.math.subtract(v1, v2)\n",
        "tf.math.multiply(v1, v2)\n",
        "tf.math.divide(v1, v2)\n",
        "tf.math.mod(v1, v2)\n",
        "tf.math.floordiv(v1, v2)"
      ],
      "metadata": {
        "colab": {
          "base_uri": "https://localhost:8080/"
        },
        "id": "XeY6VkWc0Dwo",
        "outputId": "e4ad78fa-4164-4de5-b72a-ec1172440290"
      },
      "execution_count": 27,
      "outputs": [
        {
          "output_type": "execute_result",
          "data": {
            "text/plain": [
              "<tf.Tensor: shape=(3,), dtype=float32, numpy=array([1., 2., 3.], dtype=float32)>"
            ]
          },
          "metadata": {},
          "execution_count": 27
        }
      ]
    },
    {
      "cell_type": "code",
      "source": [
        "tf.reduce_sum(v1)\n",
        "tf.math.square(v1)\n",
        "tf.math.sqrt(v1)\n",
        "print(v1 + 1)"
      ],
      "metadata": {
        "colab": {
          "base_uri": "https://localhost:8080/"
        },
        "id": "6llVuQXg01_O",
        "outputId": "ec989b87-1f03-40fe-a56f-383fd530791f"
      },
      "execution_count": 30,
      "outputs": [
        {
          "output_type": "stream",
          "name": "stdout",
          "text": [
            "tf.Tensor([11. 21. 31.], shape=(3,), dtype=float32)\n"
          ]
        }
      ]
    },
    {
      "cell_type": "code",
      "source": [
        "# Matrix\n",
        "list = [[10, 20],[30, 40]]\n",
        "m1 = tf.constant(list)\n",
        "tf.rank(m1)"
      ],
      "metadata": {
        "colab": {
          "base_uri": "https://localhost:8080/"
        },
        "id": "Zts77vS00-ep",
        "outputId": "921a9b5f-9423-4e1b-e3c3-c51af38f40a1"
      },
      "execution_count": 32,
      "outputs": [
        {
          "output_type": "execute_result",
          "data": {
            "text/plain": [
              "<tf.Tensor: shape=(), dtype=int32, numpy=2>"
            ]
          },
          "metadata": {},
          "execution_count": 32
        }
      ]
    },
    {
      "cell_type": "code",
      "source": [
        "v1 = tf.constant([1, 0])\n",
        "v2 = tf.constant([-1, 2])\n",
        "m2 = tf.stack([v1, v2])\n",
        "tf.rank(m2)"
      ],
      "metadata": {
        "colab": {
          "base_uri": "https://localhost:8080/"
        },
        "id": "yAa_bmhd1R6d",
        "outputId": "fb1b824b-a6a6-447b-ebde-ea9b145a791a"
      },
      "execution_count": 40,
      "outputs": [
        {
          "output_type": "execute_result",
          "data": {
            "text/plain": [
              "<tf.Tensor: shape=(), dtype=int32, numpy=2>"
            ]
          },
          "metadata": {},
          "execution_count": 40
        }
      ]
    },
    {
      "cell_type": "code",
      "source": [
        "e_mul = tf.math.multiply(m1, m2)\n",
        "print(e_mul)\n",
        "tf.rank(e_mul)\n",
        "\n",
        "e_bc = tf.math.multiply(m1, 3)\n",
        "print(e_bc)\n",
        "tf.rank(e_bc)"
      ],
      "metadata": {
        "colab": {
          "base_uri": "https://localhost:8080/"
        },
        "id": "XQ8g10Cw12fC",
        "outputId": "97ae5867-88a0-4a32-f816-11539c715dbf"
      },
      "execution_count": 43,
      "outputs": [
        {
          "output_type": "stream",
          "name": "stdout",
          "text": [
            "tf.Tensor(\n",
            "[[ 10   0]\n",
            " [-30  80]], shape=(2, 2), dtype=int32)\n",
            "tf.Tensor(\n",
            "[[ 30  60]\n",
            " [ 90 120]], shape=(2, 2), dtype=int32)\n"
          ]
        },
        {
          "output_type": "execute_result",
          "data": {
            "text/plain": [
              "<tf.Tensor: shape=(), dtype=int32, numpy=2>"
            ]
          },
          "metadata": {},
          "execution_count": 43
        }
      ]
    },
    {
      "cell_type": "code",
      "source": [
        "# Matrix 연산\n",
        "mat_mul = tf.matmul(m1, m2)\n",
        "print(mat_mul)\n",
        "tf.rank(mat_mul)\n",
        "\n",
        "a1 = tf.math.add(m1, m2)\n",
        "a2 = m1 + m2"
      ],
      "metadata": {
        "colab": {
          "base_uri": "https://localhost:8080/"
        },
        "id": "yw99q4qq2UHv",
        "outputId": "02e62025-02fc-4fc9-8eac-c8348c0f4f3b"
      },
      "execution_count": 46,
      "outputs": [
        {
          "output_type": "stream",
          "name": "stdout",
          "text": [
            "tf.Tensor(\n",
            "[[-10  40]\n",
            " [-10  80]], shape=(2, 2), dtype=int32)\n"
          ]
        }
      ]
    },
    {
      "cell_type": "code",
      "source": [
        "np_arr = mat_mul.numpy()\n",
        "print(type(np_arr))\n",
        "print(np_arr)"
      ],
      "metadata": {
        "colab": {
          "base_uri": "https://localhost:8080/"
        },
        "id": "KqTBs3kG2b31",
        "outputId": "d86d659f-b49f-4b9f-d688-819eeb4aa884"
      },
      "execution_count": 50,
      "outputs": [
        {
          "output_type": "stream",
          "name": "stdout",
          "text": [
            "<class 'numpy.ndarray'>\n",
            "[[-10  40]\n",
            " [-10  80]]\n"
          ]
        }
      ]
    },
    {
      "cell_type": "code",
      "source": [
        "# 고차원 Tensor\n",
        "m1 = [[1,2,3,4],[5,6,7,8]]\n",
        "m2 = [[9,10,11,12],[13,14,15,16]]\n",
        "m3 = [[17,18,19,20],[21,22,23,24]]\n",
        "\n",
        "t1 = tf.constant([m1,m2,m3])\n",
        "\n",
        "t2 = tf.stack([m1,m2,m3])"
      ],
      "metadata": {
        "id": "DJH7HVOV2joj"
      },
      "execution_count": 53,
      "outputs": []
    },
    {
      "cell_type": "code",
      "source": [
        "v1 = [1,2,3,4]\n",
        "v2 = [5,6,7,8]\n",
        "v3 = [9,10,11,12]\n",
        "v4 = [13,14,15,16]\n",
        "v5 = [17,18,19,20]\n",
        "v6 = [21,22,23,24]\n",
        "\n",
        "arr = [[v1,v2],\n",
        "       [v3,v4],\n",
        "       [v5,v6]]\n",
        "       \n",
        "t3 = tf.constant(arr)\n",
        "t4 = tf.stack([t1,t2])"
      ],
      "metadata": {
        "id": "iVvZH7mT2w8t"
      },
      "execution_count": 57,
      "outputs": []
    },
    {
      "cell_type": "code",
      "source": [
        "# Indexing, Slicing\n",
        "vec = tf.constant([10,20,30,40,50])\n",
        "vec[0]\n",
        "vec[-1]\n",
        "vec[:3]"
      ],
      "metadata": {
        "colab": {
          "base_uri": "https://localhost:8080/"
        },
        "id": "S26-Y5h87BYZ",
        "outputId": "0fa750c7-a33a-444f-eff3-52c78e4b8d2d"
      },
      "execution_count": 62,
      "outputs": [
        {
          "output_type": "execute_result",
          "data": {
            "text/plain": [
              "<tf.Tensor: shape=(3,), dtype=int32, numpy=array([10, 20, 30], dtype=int32)>"
            ]
          },
          "metadata": {},
          "execution_count": 62
        }
      ]
    },
    {
      "cell_type": "code",
      "source": [
        "mat = tf.constant([[10, 20, 30], [40, 50, 60]])\n",
        "mat[0, 2]\n",
        "mat[0, :]\n",
        "mat[:, 1]"
      ],
      "metadata": {
        "colab": {
          "base_uri": "https://localhost:8080/"
        },
        "id": "DF39glzP7OO0",
        "outputId": "e050de83-5193-4cf7-f535-1979f39173e9"
      },
      "execution_count": 69,
      "outputs": [
        {
          "output_type": "execute_result",
          "data": {
            "text/plain": [
              "<tf.Tensor: shape=(2,), dtype=int32, numpy=array([20, 50], dtype=int32)>"
            ]
          },
          "metadata": {},
          "execution_count": 69
        }
      ]
    },
    {
      "cell_type": "code",
      "source": [
        "nums = list(range(5))\n",
        "\n",
        "print(nums)\n",
        "print(nums[2:4])\n",
        "print(nums[2:])\n",
        "print(nums[:2])\n",
        "print(nums[:])\n",
        "print(nums[:-1])\n",
        "nums[2:4] = [8, 9]\n",
        "print(nums)"
      ],
      "metadata": {
        "colab": {
          "base_uri": "https://localhost:8080/",
          "height": 241
        },
        "id": "1SMN3EaY8wQP",
        "outputId": "0caa880f-d63e-4a41-e678-68db9eda585e"
      },
      "execution_count": 77,
      "outputs": [
        {
          "output_type": "error",
          "ename": "TypeError",
          "evalue": "ignored",
          "traceback": [
            "\u001b[0;31m---------------------------------------------------------------------------\u001b[0m",
            "\u001b[0;31mTypeError\u001b[0m                                 Traceback (most recent call last)",
            "\u001b[0;32m<ipython-input-77-daabe94df1ef>\u001b[0m in \u001b[0;36m<module>\u001b[0;34m\u001b[0m\n\u001b[0;32m----> 1\u001b[0;31m \u001b[0mnums\u001b[0m \u001b[0;34m=\u001b[0m \u001b[0mlist\u001b[0m\u001b[0;34m(\u001b[0m\u001b[0mrange\u001b[0m\u001b[0;34m(\u001b[0m\u001b[0;36m5\u001b[0m\u001b[0;34m)\u001b[0m\u001b[0;34m)\u001b[0m\u001b[0;34m\u001b[0m\u001b[0;34m\u001b[0m\u001b[0m\n\u001b[0m\u001b[1;32m      2\u001b[0m \u001b[0;34m\u001b[0m\u001b[0m\n\u001b[1;32m      3\u001b[0m \u001b[0mprint\u001b[0m\u001b[0;34m(\u001b[0m\u001b[0mnums\u001b[0m\u001b[0;34m)\u001b[0m\u001b[0;34m\u001b[0m\u001b[0;34m\u001b[0m\u001b[0m\n\u001b[1;32m      4\u001b[0m \u001b[0mprint\u001b[0m\u001b[0;34m(\u001b[0m\u001b[0mnums\u001b[0m\u001b[0;34m[\u001b[0m\u001b[0;36m2\u001b[0m\u001b[0;34m:\u001b[0m\u001b[0;36m4\u001b[0m\u001b[0;34m]\u001b[0m\u001b[0;34m)\u001b[0m\u001b[0;34m\u001b[0m\u001b[0;34m\u001b[0m\u001b[0m\n\u001b[1;32m      5\u001b[0m \u001b[0mprint\u001b[0m\u001b[0;34m(\u001b[0m\u001b[0mnums\u001b[0m\u001b[0;34m[\u001b[0m\u001b[0;36m2\u001b[0m\u001b[0;34m:\u001b[0m\u001b[0;34m]\u001b[0m\u001b[0;34m)\u001b[0m\u001b[0;34m\u001b[0m\u001b[0;34m\u001b[0m\u001b[0m\n",
            "\u001b[0;31mTypeError\u001b[0m: 'list' object is not callable"
          ]
        }
      ]
    },
    {
      "cell_type": "code",
      "source": [
        "b = np.array([[1, 2, 3, 4], [5, 6,7, 8], [9, 10, 11, 12]])\n",
        "\n",
        "print(b.ndim)\n",
        "print(b.shape)\n",
        "print(b[:,-1])\n",
        "print(b[-1])\n",
        "print(b[-1,:])\n",
        "print(b[-1,...])\n",
        "print(b[0:2,:])"
      ],
      "metadata": {
        "colab": {
          "base_uri": "https://localhost:8080/"
        },
        "id": "rR0AXO6H9vUz",
        "outputId": "c3349faf-2467-4759-995d-1367d52585d8"
      },
      "execution_count": 81,
      "outputs": [
        {
          "output_type": "stream",
          "name": "stdout",
          "text": [
            "2\n",
            "(3, 4)\n",
            "[ 4  8 12]\n",
            "[ 9 10 11 12]\n",
            "[ 9 10 11 12]\n",
            "[ 9 10 11 12]\n",
            "[[1 2 3 4]\n",
            " [5 6 7 8]]\n"
          ]
        }
      ]
    },
    {
      "cell_type": "code",
      "source": [
        "a = np.array([1,2,3,4,5])\n",
        "\n",
        "a[1:3]\n",
        "a[-1]\n",
        "a[0:2] = 9"
      ],
      "metadata": {
        "id": "QaHaED2g-Z5B"
      },
      "execution_count": 89,
      "outputs": []
    },
    {
      "cell_type": "code",
      "source": [
        "b = np.array([[1, 2, 3, 4], [5, 6, 7, 8], [9,10,11,12]])\n",
        "\n",
        "b[:,1]\n",
        "b[-1]\n",
        "b[-1,:]\n",
        "b[-1,...]\n",
        "b[0:2, :]"
      ],
      "metadata": {
        "colab": {
          "base_uri": "https://localhost:8080/"
        },
        "id": "rkCP_QRR-nuN",
        "outputId": "2ff19045-20d3-4207-e60c-029f0eeb1a3c"
      },
      "execution_count": 90,
      "outputs": [
        {
          "output_type": "execute_result",
          "data": {
            "text/plain": [
              "array([[1, 2, 3, 4],\n",
              "       [5, 6, 7, 8]])"
            ]
          },
          "metadata": {},
          "execution_count": 90
        }
      ]
    },
    {
      "cell_type": "code",
      "source": [
        "# Reshape (형태 변환)\n",
        "ts = tf.constant(range(0,24))\n",
        "print(ts)\n",
        "ts1 = tf.reshape(ts,[3,8])\n",
        "print(ts1)\n",
        "\n",
        "t2 = tf.reshape(t1,[-1,4])\n",
        "t3 = tf.reshape(t2,[-1])\n",
        "t4 = tf.reshape(t3,[-1,3,4])\n",
        "t5 = tf.reshape(t4,[3,2,4])\n",
        "t6 = tf.reshape(t5,[3,2,2,2])\n",
        "print(t6)"
      ],
      "metadata": {
        "colab": {
          "base_uri": "https://localhost:8080/"
        },
        "id": "ZXMr_00P-3Tz",
        "outputId": "64be2f95-65c0-4fec-d033-1ed4a073b590"
      },
      "execution_count": 96,
      "outputs": [
        {
          "output_type": "stream",
          "name": "stdout",
          "text": [
            "tf.Tensor([ 0  1  2  3  4  5  6  7  8  9 10 11 12 13 14 15 16 17 18 19 20 21 22 23], shape=(24,), dtype=int32)\n",
            "tf.Tensor(\n",
            "[[ 0  1  2  3  4  5  6  7]\n",
            " [ 8  9 10 11 12 13 14 15]\n",
            " [16 17 18 19 20 21 22 23]], shape=(3, 8), dtype=int32)\n",
            "tf.Tensor(\n",
            "[[[[ 1  2]\n",
            "   [ 3  4]]\n",
            "\n",
            "  [[ 5  6]\n",
            "   [ 7  8]]]\n",
            "\n",
            "\n",
            " [[[ 9 10]\n",
            "   [11 12]]\n",
            "\n",
            "  [[13 14]\n",
            "   [15 16]]]\n",
            "\n",
            "\n",
            " [[[17 18]\n",
            "   [19 20]]\n",
            "\n",
            "  [[21 22]\n",
            "   [23 24]]]], shape=(3, 2, 2, 2), dtype=int32)\n"
          ]
        }
      ]
    },
    {
      "cell_type": "code",
      "source": [
        "a = np.arange(12)\n",
        "a.reshape(3,4)\n",
        "a.reshape(-1,2)"
      ],
      "metadata": {
        "colab": {
          "base_uri": "https://localhost:8080/"
        },
        "id": "20I63eDP_MUO",
        "outputId": "36354e64-ea96-45a6-a159-c26fb7622775"
      },
      "execution_count": 98,
      "outputs": [
        {
          "output_type": "execute_result",
          "data": {
            "text/plain": [
              "array([[ 0,  1],\n",
              "       [ 2,  3],\n",
              "       [ 4,  5],\n",
              "       [ 6,  7],\n",
              "       [ 8,  9],\n",
              "       [10, 11]])"
            ]
          },
          "metadata": {},
          "execution_count": 98
        }
      ]
    },
    {
      "cell_type": "code",
      "source": [
        "# 변수 (잘 안씀)\n",
        "t1 = tf.constant([[0,1,2],\n",
        "                  [3,4,5]])\n",
        "tv1 = tf.Variable(t1)\n",
        "print(tv1)\n",
        "tv1.assign([[1,1,1],\n",
        "            [2,2,2]])\n",
        "t2 = tf.convert_to_tensor(tv1)\n",
        "tv2 = tf.Variable(t2, name='name')"
      ],
      "metadata": {
        "colab": {
          "base_uri": "https://localhost:8080/"
        },
        "id": "Bw_wxIJOAOSv",
        "outputId": "4eb6cce9-2e80-4a12-b012-b7c319f8e4b5"
      },
      "execution_count": 100,
      "outputs": [
        {
          "output_type": "stream",
          "name": "stdout",
          "text": [
            "<tf.Variable 'Variable:0' shape=(2, 3) dtype=int32, numpy=\n",
            "array([[0, 1, 2],\n",
            "       [3, 4, 5]], dtype=int32)>\n"
          ]
        }
      ]
    }
  ]
}